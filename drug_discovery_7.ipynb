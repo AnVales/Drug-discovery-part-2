{
  "nbformat": 4,
  "nbformat_minor": 0,
  "metadata": {
    "colab": {
      "name": "drug_discovery_7.ipynb",
      "provenance": [],
      "authorship_tag": "ABX9TyP8bAST4cESbVA+jKOOegtd"
    },
    "kernelspec": {
      "name": "python3",
      "display_name": "Python 3"
    },
    "language_info": {
      "name": "python"
    }
  },
  "cells": [
    {
      "cell_type": "markdown",
      "metadata": {
        "id": "dJdXK_AU6BGR"
      },
      "source": [
        "# Computational drug discovery: part 7\n",
        "## Predict the pIC50 values"
      ]
    },
    {
      "cell_type": "code",
      "metadata": {
        "id": "rqICKW9_7AJp"
      },
      "source": [
        "!pip install streamlit"
      ],
      "execution_count": null,
      "outputs": []
    },
    {
      "cell_type": "code",
      "metadata": {
        "colab": {
          "base_uri": "https://localhost:8080/"
        },
        "id": "q2uRO_8WAgTO",
        "outputId": "5ba5113d-4a34-4e22-9ef7-10a8749512b1"
      },
      "source": [
        "! wget -O PaDEL-Descriptor.zip https://raw.githubusercontent.com/AnVales/Drug-discovery-part-2/main/PaDEL-Descriptor.zip"
      ],
      "execution_count": 2,
      "outputs": [
        {
          "output_type": "stream",
          "name": "stdout",
          "text": [
            "--2021-09-15 10:32:30--  https://raw.githubusercontent.com/AnVales/Drug-discovery-part-2/main/PaDEL-Descriptor.zip\n",
            "Resolving raw.githubusercontent.com (raw.githubusercontent.com)... 185.199.108.133, 185.199.111.133, 185.199.109.133, ...\n",
            "Connecting to raw.githubusercontent.com (raw.githubusercontent.com)|185.199.108.133|:443... connected.\n",
            "HTTP request sent, awaiting response... 200 OK\n",
            "Length: 25695013 (25M) [application/zip]\n",
            "Saving to: ‘PaDEL-Descriptor.zip’\n",
            "\n",
            "\rPaDEL-Descriptor.zi   0%[                    ]       0  --.-KB/s               \rPaDEL-Descriptor.zi 100%[===================>]  24.50M   136MB/s    in 0.2s    \n",
            "\n",
            "2021-09-15 10:32:31 (136 MB/s) - ‘PaDEL-Descriptor.zip’ saved [25695013/25695013]\n",
            "\n"
          ]
        }
      ]
    },
    {
      "cell_type": "code",
      "metadata": {
        "id": "YEFKlMPjAtmw"
      },
      "source": [
        "# Open zip\n",
        "! unzip PaDEL-Descriptor.zip"
      ],
      "execution_count": null,
      "outputs": []
    },
    {
      "cell_type": "code",
      "metadata": {
        "id": "EAcL0ab46lGf"
      },
      "source": [
        "# Import libraries\n",
        "# Framework for Machine learning and data science \n",
        "import streamlit as st\n",
        "import pandas as pd\n",
        "# Descriptor calculated with java\n",
        "import subprocess\n",
        "# To perform file handling\n",
        "import os\n",
        "# Encoding and decoding the file when we have the file available for download the prediction results\n",
        "import base64\n",
        "# Loading up the pickle file (the model)\n",
        "import pickle"
      ],
      "execution_count": 4,
      "outputs": []
    },
    {
      "cell_type": "code",
      "metadata": {
        "id": "qaa1fODU62hk"
      },
      "source": [
        "# Molecular descriptor calculator\n",
        "def desc_calc():\n",
        "    # Performs the descriptor calculation\n",
        "    bashCommand = \"java -Xms2G -Xmx2G -Djava.awt.headless=true -jar ./PaDEL-Descriptor/PaDEL-Descriptor.jar -removesalt -standardizenitro -fingerprints -descriptortypes ./PaDEL-Descriptor/PubchemFingerprinter.xml -dir ./ -file descriptors_output.csv\"\n",
        "    process = subprocess.Popen(bashCommand.split(), stdout=subprocess.PIPE)\n",
        "    output, error = process.communicate()"
      ],
      "execution_count": 5,
      "outputs": []
    },
    {
      "cell_type": "code",
      "metadata": {
        "id": "GrsxLoERBVow"
      },
      "source": [
        "# Model building\n",
        "def build_model(input_data):\n",
        "    # Reads in saved regression model\n",
        "    load_model = pickle.load(open('acetylcholinesterase_model.pkl', 'rb'))\n",
        "    # Apply model to make predictions\n",
        "    prediction = load_model.predict(input_data)\n",
        "    st.header('**Prediction output**')\n",
        "    prediction_output = pd.Series(prediction, name='pIC50')\n",
        "    molecule_name = pd.Series(load_data[1], name='molecule_name')\n",
        "    df = pd.concat([molecule_name, prediction_output], axis=1)\n",
        "    st.write(df)\n",
        "    st.markdown(filedownload(df), unsafe_allow_html=True)"
      ],
      "execution_count": 6,
      "outputs": []
    }
  ]
}