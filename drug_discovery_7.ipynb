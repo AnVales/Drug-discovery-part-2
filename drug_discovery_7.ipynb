{
  "nbformat": 4,
  "nbformat_minor": 0,
  "metadata": {
    "colab": {
      "name": "drug_discovery_7.ipynb",
      "provenance": [],
      "authorship_tag": "ABX9TyM8tn2kElcNqKwffETUsswD"
    },
    "kernelspec": {
      "name": "python3",
      "display_name": "Python 3"
    },
    "language_info": {
      "name": "python"
    }
  },
  "cells": [
    {
      "cell_type": "markdown",
      "metadata": {
        "id": "dJdXK_AU6BGR"
      },
      "source": [
        "# Computational drug discovery: part 7\n",
        "## Predict the pIC50 values"
      ]
    },
    {
      "cell_type": "code",
      "metadata": {
        "id": "rqICKW9_7AJp"
      },
      "source": [
        "!pip install streamlit"
      ],
      "execution_count": null,
      "outputs": []
    },
    {
      "cell_type": "code",
      "metadata": {
        "id": "EAcL0ab46lGf"
      },
      "source": [
        "# Import libraries\n",
        "# Framework for Machine learning and data science \n",
        "import streamlit as st\n",
        "import pandas as pd\n",
        "# Descriptor calculated with java\n",
        "import subprocess\n",
        "# To perform file handling\n",
        "import os\n",
        "# Encoding and decoding the file when we have the file available for download the prediction results\n",
        "import base64\n",
        "# Loading up the pickle file (the model)\n",
        "import pickle"
      ],
      "execution_count": null,
      "outputs": []
    },
    {
      "cell_type": "code",
      "metadata": {
        "id": "qaa1fODU62hk"
      },
      "source": [
        "# Molecular descriptor calculator\n",
        "def desc_calc():\n",
        "    # Performs the descriptor calculation\n",
        "    bashCommand = \"java -Xms2G -Xmx2G -Djava.awt.headless=true -jar ./PaDEL-Descriptor/PaDEL-Descriptor.jar -removesalt -standardizenitro -fingerprints -descriptortypes ./PaDEL-Descriptor/PubchemFingerprinter.xml -dir ./ -file descriptors_output.csv\"\n",
        "    process = subprocess.Popen(bashCommand.split(), stdout=subprocess.PIPE)\n",
        "    output, error = process.communicate()\n",
        "    os.remove('molecule.smi')"
      ],
      "execution_count": null,
      "outputs": []
    }
  ]
}